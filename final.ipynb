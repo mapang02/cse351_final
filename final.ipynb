{
 "cells": [
  {
   "attachments": {},
   "cell_type": "markdown",
   "metadata": {},
   "source": [
    "### Initialization"
   ]
  },
  {
   "cell_type": "code",
   "execution_count": 1,
   "metadata": {},
   "outputs": [],
   "source": [
    "#Initial setup\n",
    "import math\n",
    "import numpy as np\n",
    "import pandas as pd\n",
    "from sklearn.model_selection import train_test_split\n",
    "from sklearn import linear_model\n",
    "from sklearn import neighbors\n",
    "from sklearn.tree import DecisionTreeClassifier\n",
    "from sklearn.model_selection import cross_validate\n",
    "\n",
    "import seaborn as sns\n",
    "import matplotlib.pyplot as plt\n",
    "\n",
    "np.random.seed(0)\n",
    "\n",
    "#Read Titanic data\n",
    "titanic_df = pd.read_csv(\"train.csv\")"
   ]
  },
  {
   "attachments": {},
   "cell_type": "markdown",
   "metadata": {},
   "source": [
    "### Data cleaning"
   ]
  },
  {
   "cell_type": "code",
   "execution_count": 2,
   "metadata": {},
   "outputs": [
    {
     "name": "stdout",
     "output_type": "stream",
     "text": [
      "Unique values for 'Sex': ['male' 'female']\n",
      "\tEntries with missing Sex: 0\n",
      "Unique values for 'Pclass': [1, 2, 3]\n",
      "\tEntries with missing Pclass: 0\n",
      "Unique values for 'SibSp': [0, 1, 2, 3, 4, 5, 8]\n",
      "\tEntries with missing SibSp: 0\n",
      "Unique values for 'Parch': [0, 1, 2, 3, 4, 5, 6]\n",
      "\tEntries with missing Parch: 0\n",
      "Unique values for 'Embarked': ['S' 'C' 'Q' nan]\n",
      "\tEntries with missing Embarked: 2\n",
      "Age percentiles\n",
      " \t0th pctl: 0.42000\n",
      "\t10th pctl: 14.00000\n",
      "\t25th pctl: 20.12500\n",
      "\t50th pctl: 28.00000\n",
      "\t75th pctl: 38.00000\n",
      "\t90th pctl: 50.00000\n",
      "\t100th pctl: 80.00000\n",
      "\tnull values: 177\n",
      "Fare percentiles\n",
      " \t0th pctl: 0.00000\n",
      "\t10th pctl: 7.55000\n",
      "\t25th pctl: 7.91040\n",
      "\t50th pctl: 14.45420\n",
      "\t75th pctl: 31.00000\n",
      "\t90th pctl: 77.95830\n",
      "\t100th pctl: 512.32920\n",
      "\tnull values: 0\n"
     ]
    }
   ],
   "source": [
    "#Check the unique values for variables that should have a small number of possible values\n",
    "print(\"Unique values for 'Sex':\", pd.unique(titanic_df[\"Sex\"]))\n",
    "print(\"\\tEntries with missing Sex:\", titanic_df[\"Sex\"].isna().sum())\n",
    "print(\"Unique values for 'Pclass':\", sorted(pd.unique(titanic_df[\"Pclass\"])))\n",
    "print(\"\\tEntries with missing Pclass:\", titanic_df[\"Sex\"].isna().sum())\n",
    "print(\"Unique values for 'SibSp':\", sorted(pd.unique(titanic_df[\"SibSp\"])))\n",
    "print(\"\\tEntries with missing SibSp:\", titanic_df[\"Sex\"].isna().sum())\n",
    "print(\"Unique values for 'Parch':\", sorted(pd.unique(titanic_df[\"Parch\"])))\n",
    "print(\"\\tEntries with missing Parch:\", titanic_df[\"Sex\"].isna().sum())\n",
    "print(\"Unique values for 'Embarked':\", pd.unique(titanic_df[\"Embarked\"]))\n",
    "print(\"\\tEntries with missing Embarked:\", titanic_df[\"Embarked\"].isna().sum())\n",
    "\n",
    "#Check min, max, 10th, 25th, 50th, 75th, and 90th quartiles for 'Age' field\n",
    "print(\"Age percentiles\\n\", \"\\n\".join([\"\\t%dth pctl: %.5f\" % (n, titanic_df[\"Age\"].quantile(n/100)) for n in [0, 10, 25, 50, 75, 90, 100]]))\n",
    "print(\"\\tnull values:\", titanic_df[\"Age\"].isna().sum())\n",
    "#Impute missing ages with the mean age\n",
    "titanic_df[\"Age\"].fillna(titanic_df[\"Age\"].mean(), inplace=True)\n",
    "\n",
    "#Check min, max, 10th, 25th, 50th, 75th, and 90th quartiles for 'Fare' field\n",
    "print(\"Fare percentiles\\n\", \"\\n\".join([\"\\t%dth pctl: %.5f\" % (n, titanic_df[\"Fare\"].quantile(n/100)) for n in [0, 10, 25, 50, 75, 90, 100]]))\n",
    "print(\"\\tnull values:\", titanic_df[\"Fare\"].isna().sum())\n",
    "#Impute missing fares with the mean fare\n",
    "titanic_df[\"Fare\"].fillna(titanic_df[\"Fare\"].mean(), inplace=True)"
   ]
  },
  {
   "attachments": {},
   "cell_type": "markdown",
   "metadata": {},
   "source": [
    "Data cleaning takeaways:\n",
    "* There are no unusual values in the Sex, Pclass, SibSp, or Parch column. \n",
    "* The Embarked column has some missing values, but no other unusual values.\n",
    "* There do not appear to be any unusual values in the Age column, although there are 177 missing values. The missing ages were imputed with the mean age.\n",
    "* There do not appear to be any unusual values in the Fare column. A fare of 0.0 could be interpreted as a ticket provided for free. Although the maximum value is significantly higher than the 90th percentile value, there are a number other of high-cost tickets."
   ]
  },
  {
   "attachments": {},
   "cell_type": "markdown",
   "metadata": {},
   "source": [
    "### Exploratory Data Analysis"
   ]
  },
  {
   "attachments": {},
   "cell_type": "markdown",
   "metadata": {},
   "source": [
    "##### Relationship between socio-economic status and other variables"
   ]
  },
  {
   "cell_type": "code",
   "execution_count": 3,
   "metadata": {},
   "outputs": [
    {
     "data": {
      "text/html": [
       "<div>\n",
       "<style scoped>\n",
       "    .dataframe tbody tr th:only-of-type {\n",
       "        vertical-align: middle;\n",
       "    }\n",
       "\n",
       "    .dataframe tbody tr th {\n",
       "        vertical-align: top;\n",
       "    }\n",
       "\n",
       "    .dataframe thead th {\n",
       "        text-align: right;\n",
       "    }\n",
       "</style>\n",
       "<table border=\"1\" class=\"dataframe\">\n",
       "  <thead>\n",
       "    <tr style=\"text-align: right;\">\n",
       "      <th></th>\n",
       "      <th>Count</th>\n",
       "      <th>Age</th>\n",
       "      <th>SibSp</th>\n",
       "      <th>Parch</th>\n",
       "      <th>Fare</th>\n",
       "      <th>% Male</th>\n",
       "      <th>% Female</th>\n",
       "      <th>% from C</th>\n",
       "      <th>% from Q</th>\n",
       "      <th>% from S</th>\n",
       "    </tr>\n",
       "    <tr>\n",
       "      <th>Pclass</th>\n",
       "      <th></th>\n",
       "      <th></th>\n",
       "      <th></th>\n",
       "      <th></th>\n",
       "      <th></th>\n",
       "      <th></th>\n",
       "      <th></th>\n",
       "      <th></th>\n",
       "      <th></th>\n",
       "      <th></th>\n",
       "    </tr>\n",
       "  </thead>\n",
       "  <tbody>\n",
       "    <tr>\n",
       "      <th>1</th>\n",
       "      <td>216</td>\n",
       "      <td>37.048118</td>\n",
       "      <td>0.416667</td>\n",
       "      <td>0.356481</td>\n",
       "      <td>84.154687</td>\n",
       "      <td>0.564815</td>\n",
       "      <td>0.435185</td>\n",
       "      <td>0.393519</td>\n",
       "      <td>0.009259</td>\n",
       "      <td>0.587963</td>\n",
       "    </tr>\n",
       "    <tr>\n",
       "      <th>2</th>\n",
       "      <td>184</td>\n",
       "      <td>29.866958</td>\n",
       "      <td>0.402174</td>\n",
       "      <td>0.380435</td>\n",
       "      <td>20.662183</td>\n",
       "      <td>0.586957</td>\n",
       "      <td>0.413043</td>\n",
       "      <td>0.092391</td>\n",
       "      <td>0.016304</td>\n",
       "      <td>0.891304</td>\n",
       "    </tr>\n",
       "    <tr>\n",
       "      <th>3</th>\n",
       "      <td>491</td>\n",
       "      <td>26.403259</td>\n",
       "      <td>0.615071</td>\n",
       "      <td>0.393075</td>\n",
       "      <td>13.675550</td>\n",
       "      <td>0.706721</td>\n",
       "      <td>0.293279</td>\n",
       "      <td>0.134420</td>\n",
       "      <td>0.146640</td>\n",
       "      <td>0.718941</td>\n",
       "    </tr>\n",
       "  </tbody>\n",
       "</table>\n",
       "</div>"
      ],
      "text/plain": [
       "        Count        Age     SibSp     Parch       Fare    % Male  % Female  \\\n",
       "Pclass                                                                        \n",
       "1         216  37.048118  0.416667  0.356481  84.154687  0.564815  0.435185   \n",
       "2         184  29.866958  0.402174  0.380435  20.662183  0.586957  0.413043   \n",
       "3         491  26.403259  0.615071  0.393075  13.675550  0.706721  0.293279   \n",
       "\n",
       "        % from C  % from Q  % from S  \n",
       "Pclass                                \n",
       "1       0.393519  0.009259  0.587963  \n",
       "2       0.092391  0.016304  0.891304  \n",
       "3       0.134420  0.146640  0.718941  "
      ]
     },
     "execution_count": 3,
     "metadata": {},
     "output_type": "execute_result"
    }
   ],
   "source": [
    "#Take average of each field for each passenger class\n",
    "#For non-numeric features, the percentage of each group with each possible value is used\n",
    "pclass_df = titanic_df.copy()\n",
    "pclass_df.drop(columns=\"PassengerId\", inplace=True)\n",
    "pclass_df[\"% Male\"] = (pclass_df[\"Sex\"] == \"male\")\n",
    "pclass_df[\"% Female\"] = 1 - pclass_df[\"% Male\"]\n",
    "pclass_df[\"% from C\"] = (pclass_df[\"Embarked\"] == \"C\")\n",
    "pclass_df[\"% from Q\"] = (pclass_df[\"Embarked\"] == \"Q\")\n",
    "pclass_df[\"% from S\"] = (pclass_df[\"Embarked\"] == \"S\")\n",
    "pclass_average_df = pclass_df.groupby(\"Pclass\").mean()\n",
    "pclass_average_df[\"Count\"] = pclass_df.groupby(\"Pclass\")[\"Survived\"].count()\n",
    "pclass_average_df[[\"Count\", \"Age\", \"SibSp\", \"Parch\", \"Fare\", \"% Male\", \"% Female\", \"% from C\", \"% from Q\", \"% from S\"]]"
   ]
  },
  {
   "attachments": {},
   "cell_type": "markdown",
   "metadata": {},
   "source": [
    "From an analysis based on passenger ticket class, it can be determined that:\n",
    "* The higher the class, the older passengers are on average.\n",
    "* On average, third-class passengers had more total siblings/spouses on board than first-class and second-class passengers. First-class passengers had slightly fewer parents/children on board than second-class and third-class passengers.\n",
    "* First-class passengers paid significantly higher fares than second-class and third-class passengers.\n",
    "* The majority of passengers in each group were male, but there was a higher percentage of males amongst third-class passengers.\n",
    "* Most passengers departed from Southampton.\n",
    "* Out of the three classes, first-class passengers were most likely to have departed from Cherbourg.\n",
    "* Out of the three classes, third-class passengers were most likely to have departed from Queenstown."
   ]
  },
  {
   "attachments": {},
   "cell_type": "markdown",
   "metadata": {},
   "source": [
    "##### Relationship between discrete variables and survival rate"
   ]
  },
  {
   "cell_type": "code",
   "execution_count": 4,
   "metadata": {},
   "outputs": [
    {
     "data": {
      "text/html": [
       "<div>\n",
       "<style scoped>\n",
       "    .dataframe tbody tr th:only-of-type {\n",
       "        vertical-align: middle;\n",
       "    }\n",
       "\n",
       "    .dataframe tbody tr th {\n",
       "        vertical-align: top;\n",
       "    }\n",
       "\n",
       "    .dataframe thead th {\n",
       "        text-align: right;\n",
       "    }\n",
       "</style>\n",
       "<table border=\"1\" class=\"dataframe\">\n",
       "  <thead>\n",
       "    <tr style=\"text-align: right;\">\n",
       "      <th></th>\n",
       "      <th>Count</th>\n",
       "      <th>Survived</th>\n",
       "    </tr>\n",
       "    <tr>\n",
       "      <th>Sex</th>\n",
       "      <th></th>\n",
       "      <th></th>\n",
       "    </tr>\n",
       "  </thead>\n",
       "  <tbody>\n",
       "    <tr>\n",
       "      <th>female</th>\n",
       "      <td>314</td>\n",
       "      <td>0.742038</td>\n",
       "    </tr>\n",
       "    <tr>\n",
       "      <th>male</th>\n",
       "      <td>577</td>\n",
       "      <td>0.188908</td>\n",
       "    </tr>\n",
       "  </tbody>\n",
       "</table>\n",
       "</div>"
      ],
      "text/plain": [
       "        Count  Survived\n",
       "Sex                    \n",
       "female    314  0.742038\n",
       "male      577  0.188908"
      ]
     },
     "metadata": {},
     "output_type": "display_data"
    },
    {
     "data": {
      "text/html": [
       "<div>\n",
       "<style scoped>\n",
       "    .dataframe tbody tr th:only-of-type {\n",
       "        vertical-align: middle;\n",
       "    }\n",
       "\n",
       "    .dataframe tbody tr th {\n",
       "        vertical-align: top;\n",
       "    }\n",
       "\n",
       "    .dataframe thead th {\n",
       "        text-align: right;\n",
       "    }\n",
       "</style>\n",
       "<table border=\"1\" class=\"dataframe\">\n",
       "  <thead>\n",
       "    <tr style=\"text-align: right;\">\n",
       "      <th></th>\n",
       "      <th>Count</th>\n",
       "      <th>Survived</th>\n",
       "    </tr>\n",
       "    <tr>\n",
       "      <th>Pclass</th>\n",
       "      <th></th>\n",
       "      <th></th>\n",
       "    </tr>\n",
       "  </thead>\n",
       "  <tbody>\n",
       "    <tr>\n",
       "      <th>1</th>\n",
       "      <td>216</td>\n",
       "      <td>0.629630</td>\n",
       "    </tr>\n",
       "    <tr>\n",
       "      <th>2</th>\n",
       "      <td>184</td>\n",
       "      <td>0.472826</td>\n",
       "    </tr>\n",
       "    <tr>\n",
       "      <th>3</th>\n",
       "      <td>491</td>\n",
       "      <td>0.242363</td>\n",
       "    </tr>\n",
       "  </tbody>\n",
       "</table>\n",
       "</div>"
      ],
      "text/plain": [
       "        Count  Survived\n",
       "Pclass                 \n",
       "1         216  0.629630\n",
       "2         184  0.472826\n",
       "3         491  0.242363"
      ]
     },
     "metadata": {},
     "output_type": "display_data"
    },
    {
     "data": {
      "text/html": [
       "<div>\n",
       "<style scoped>\n",
       "    .dataframe tbody tr th:only-of-type {\n",
       "        vertical-align: middle;\n",
       "    }\n",
       "\n",
       "    .dataframe tbody tr th {\n",
       "        vertical-align: top;\n",
       "    }\n",
       "\n",
       "    .dataframe thead th {\n",
       "        text-align: right;\n",
       "    }\n",
       "</style>\n",
       "<table border=\"1\" class=\"dataframe\">\n",
       "  <thead>\n",
       "    <tr style=\"text-align: right;\">\n",
       "      <th></th>\n",
       "      <th>Count</th>\n",
       "      <th>Survived</th>\n",
       "    </tr>\n",
       "    <tr>\n",
       "      <th>Embarked</th>\n",
       "      <th></th>\n",
       "      <th></th>\n",
       "    </tr>\n",
       "  </thead>\n",
       "  <tbody>\n",
       "    <tr>\n",
       "      <th>C</th>\n",
       "      <td>168</td>\n",
       "      <td>0.553571</td>\n",
       "    </tr>\n",
       "    <tr>\n",
       "      <th>Q</th>\n",
       "      <td>77</td>\n",
       "      <td>0.389610</td>\n",
       "    </tr>\n",
       "    <tr>\n",
       "      <th>S</th>\n",
       "      <td>644</td>\n",
       "      <td>0.336957</td>\n",
       "    </tr>\n",
       "  </tbody>\n",
       "</table>\n",
       "</div>"
      ],
      "text/plain": [
       "          Count  Survived\n",
       "Embarked                 \n",
       "C           168  0.553571\n",
       "Q            77  0.389610\n",
       "S           644  0.336957"
      ]
     },
     "metadata": {},
     "output_type": "display_data"
    }
   ],
   "source": [
    "#For discrete variables, determine the percentage of people from each group who survived.\n",
    "sex_df = pd.DataFrame()\n",
    "sex_df[\"Count\"] = titanic_df.groupby(\"Sex\")[[\"Survived\"]].count()\n",
    "sex_df[\"Survived\"] = titanic_df.groupby(\"Sex\")[[\"Survived\"]].mean()\n",
    "display(sex_df)\n",
    "\n",
    "pclass_df = pd.DataFrame()\n",
    "pclass_df[\"Count\"] = titanic_df.groupby(\"Pclass\")[[\"Survived\"]].count()\n",
    "pclass_df[\"Survived\"] = titanic_df.groupby(\"Pclass\")[[\"Survived\"]].mean()\n",
    "display(pclass_df)\n",
    "\n",
    "embarked_df = pd.DataFrame()\n",
    "embarked_df[\"Count\"] = titanic_df.groupby(\"Embarked\")[[\"Survived\"]].count()\n",
    "embarked_df[\"Survived\"] = titanic_df.groupby(\"Embarked\")[[\"Survived\"]].mean()\n",
    "display(embarked_df)"
   ]
  },
  {
   "attachments": {},
   "cell_type": "markdown",
   "metadata": {},
   "source": [
    "From these tables, it can be determined that:\n",
    "* Female passengers were more likely to survive than male passengers.\n",
    "* Passengers with first-class tickets were most likely to survive, followed by those with second-class tickets, followed by those with third-class tickets.\n",
    "* Passengers who embarked at Cherbourg were most likely to survive, followed by those who embarked at Queenstown, followed by those who embarked at Southampton.\n",
    "  * This may be due to the fact that first-class passengers were the most likely to have embarked at Cherbourg."
   ]
  },
  {
   "attachments": {},
   "cell_type": "markdown",
   "metadata": {},
   "source": [
    "##### Relationship between age and survival rate"
   ]
  },
  {
   "cell_type": "code",
   "execution_count": 5,
   "metadata": {},
   "outputs": [
    {
     "data": {
      "text/html": [
       "<div>\n",
       "<style scoped>\n",
       "    .dataframe tbody tr th:only-of-type {\n",
       "        vertical-align: middle;\n",
       "    }\n",
       "\n",
       "    .dataframe tbody tr th {\n",
       "        vertical-align: top;\n",
       "    }\n",
       "\n",
       "    .dataframe thead th {\n",
       "        text-align: right;\n",
       "    }\n",
       "</style>\n",
       "<table border=\"1\" class=\"dataframe\">\n",
       "  <thead>\n",
       "    <tr style=\"text-align: right;\">\n",
       "      <th></th>\n",
       "      <th>Count</th>\n",
       "      <th>Survived</th>\n",
       "    </tr>\n",
       "    <tr>\n",
       "      <th>Age</th>\n",
       "      <th></th>\n",
       "      <th></th>\n",
       "    </tr>\n",
       "  </thead>\n",
       "  <tbody>\n",
       "    <tr>\n",
       "      <th>[0, 15)</th>\n",
       "      <td>78</td>\n",
       "      <td>0.576923</td>\n",
       "    </tr>\n",
       "    <tr>\n",
       "      <th>[15, 30)</th>\n",
       "      <td>483</td>\n",
       "      <td>0.337474</td>\n",
       "    </tr>\n",
       "    <tr>\n",
       "      <th>[30, 45)</th>\n",
       "      <td>215</td>\n",
       "      <td>0.423256</td>\n",
       "    </tr>\n",
       "    <tr>\n",
       "      <th>[45, 60)</th>\n",
       "      <td>89</td>\n",
       "      <td>0.404494</td>\n",
       "    </tr>\n",
       "    <tr>\n",
       "      <th>[60, 100)</th>\n",
       "      <td>26</td>\n",
       "      <td>0.269231</td>\n",
       "    </tr>\n",
       "  </tbody>\n",
       "</table>\n",
       "</div>"
      ],
      "text/plain": [
       "           Count  Survived\n",
       "Age                       \n",
       "[0, 15)       78  0.576923\n",
       "[15, 30)     483  0.337474\n",
       "[30, 45)     215  0.423256\n",
       "[45, 60)      89  0.404494\n",
       "[60, 100)     26  0.269231"
      ]
     },
     "metadata": {},
     "output_type": "display_data"
    }
   ],
   "source": [
    "#Determine the percentage of people in each age range who survived\n",
    "age_df = pd.DataFrame()\n",
    "age_df[\"Count\"] = titanic_df.groupby(pd.cut(titanic_df[\"Age\"], [0, 15, 30, 45, 60, 100], right=False))[[\"Survived\"]].count()\n",
    "age_df[\"Survived\"] = titanic_df.groupby(pd.cut(titanic_df[\"Age\"], [0, 15, 30, 45, 60, 100], right=False))[[\"Survived\"]].mean()\n",
    "display(age_df)"
   ]
  },
  {
   "attachments": {},
   "cell_type": "markdown",
   "metadata": {},
   "source": [
    "All passengers aged 60 and up were grouped together, since there was only one passenger above the age of 75.\n",
    "\n",
    "From this table, it can be determined that:\n",
    "* Passengers below 15 years old were most likely to survive.\n",
    "* Passengers from age 60 and up were the least likely to survive.\n",
    "* Passengers between 15 and 29 years old were less likely to survive than passengers between 30 and 59 years old.\n",
    "  * The fact that third-class passengers had the lowest average age may indicate that young adults on board were more likely to be lower-class."
   ]
  },
  {
   "attachments": {},
   "cell_type": "markdown",
   "metadata": {},
   "source": [
    "##### Relationship between # of siblings/spouses and survival rate"
   ]
  },
  {
   "cell_type": "code",
   "execution_count": 6,
   "metadata": {},
   "outputs": [
    {
     "data": {
      "text/html": [
       "<div>\n",
       "<style scoped>\n",
       "    .dataframe tbody tr th:only-of-type {\n",
       "        vertical-align: middle;\n",
       "    }\n",
       "\n",
       "    .dataframe tbody tr th {\n",
       "        vertical-align: top;\n",
       "    }\n",
       "\n",
       "    .dataframe thead th {\n",
       "        text-align: right;\n",
       "    }\n",
       "</style>\n",
       "<table border=\"1\" class=\"dataframe\">\n",
       "  <thead>\n",
       "    <tr style=\"text-align: right;\">\n",
       "      <th></th>\n",
       "      <th>Count</th>\n",
       "      <th>Survived</th>\n",
       "    </tr>\n",
       "    <tr>\n",
       "      <th>SibSp</th>\n",
       "      <th></th>\n",
       "      <th></th>\n",
       "    </tr>\n",
       "  </thead>\n",
       "  <tbody>\n",
       "    <tr>\n",
       "      <th>0</th>\n",
       "      <td>608</td>\n",
       "      <td>0.345395</td>\n",
       "    </tr>\n",
       "    <tr>\n",
       "      <th>1</th>\n",
       "      <td>209</td>\n",
       "      <td>0.535885</td>\n",
       "    </tr>\n",
       "    <tr>\n",
       "      <th>2</th>\n",
       "      <td>28</td>\n",
       "      <td>0.464286</td>\n",
       "    </tr>\n",
       "    <tr>\n",
       "      <th>3</th>\n",
       "      <td>16</td>\n",
       "      <td>0.250000</td>\n",
       "    </tr>\n",
       "    <tr>\n",
       "      <th>4</th>\n",
       "      <td>18</td>\n",
       "      <td>0.166667</td>\n",
       "    </tr>\n",
       "    <tr>\n",
       "      <th>5</th>\n",
       "      <td>5</td>\n",
       "      <td>0.000000</td>\n",
       "    </tr>\n",
       "    <tr>\n",
       "      <th>8</th>\n",
       "      <td>7</td>\n",
       "      <td>0.000000</td>\n",
       "    </tr>\n",
       "  </tbody>\n",
       "</table>\n",
       "</div>"
      ],
      "text/plain": [
       "       Count  Survived\n",
       "SibSp                 \n",
       "0        608  0.345395\n",
       "1        209  0.535885\n",
       "2         28  0.464286\n",
       "3         16  0.250000\n",
       "4         18  0.166667\n",
       "5          5  0.000000\n",
       "8          7  0.000000"
      ]
     },
     "metadata": {},
     "output_type": "display_data"
    }
   ],
   "source": [
    "#Determine the percentage of people in each age range who survived\n",
    "sibsp_df = pd.DataFrame()\n",
    "sibsp_df[\"Count\"] = titanic_df.groupby(titanic_df[\"SibSp\"])[[\"Survived\"]].count()\n",
    "sibsp_df[\"Survived\"] = titanic_df.groupby(titanic_df[\"SibSp\"])[[\"Survived\"]].mean()\n",
    "display(sibsp_df)"
   ]
  },
  {
   "attachments": {},
   "cell_type": "markdown",
   "metadata": {},
   "source": [
    "From this table, it can be determined that:\n",
    "* Passengers with 1 or 2 siblings/spouses on board were more likely to survive than passengeres with 0 siblings/spouses on board.\n",
    "* Passengers with 3+ siblings/spouses on board were unlikely to survive."
   ]
  },
  {
   "attachments": {},
   "cell_type": "markdown",
   "metadata": {},
   "source": [
    "##### Relationship between # of parent/children and survival rate"
   ]
  },
  {
   "cell_type": "code",
   "execution_count": 7,
   "metadata": {},
   "outputs": [
    {
     "data": {
      "text/html": [
       "<div>\n",
       "<style scoped>\n",
       "    .dataframe tbody tr th:only-of-type {\n",
       "        vertical-align: middle;\n",
       "    }\n",
       "\n",
       "    .dataframe tbody tr th {\n",
       "        vertical-align: top;\n",
       "    }\n",
       "\n",
       "    .dataframe thead th {\n",
       "        text-align: right;\n",
       "    }\n",
       "</style>\n",
       "<table border=\"1\" class=\"dataframe\">\n",
       "  <thead>\n",
       "    <tr style=\"text-align: right;\">\n",
       "      <th></th>\n",
       "      <th>Count</th>\n",
       "      <th>Survived</th>\n",
       "    </tr>\n",
       "    <tr>\n",
       "      <th>Parch</th>\n",
       "      <th></th>\n",
       "      <th></th>\n",
       "    </tr>\n",
       "  </thead>\n",
       "  <tbody>\n",
       "    <tr>\n",
       "      <th>0</th>\n",
       "      <td>678</td>\n",
       "      <td>0.343658</td>\n",
       "    </tr>\n",
       "    <tr>\n",
       "      <th>1</th>\n",
       "      <td>118</td>\n",
       "      <td>0.550847</td>\n",
       "    </tr>\n",
       "    <tr>\n",
       "      <th>2</th>\n",
       "      <td>80</td>\n",
       "      <td>0.500000</td>\n",
       "    </tr>\n",
       "    <tr>\n",
       "      <th>3</th>\n",
       "      <td>5</td>\n",
       "      <td>0.600000</td>\n",
       "    </tr>\n",
       "    <tr>\n",
       "      <th>4</th>\n",
       "      <td>4</td>\n",
       "      <td>0.000000</td>\n",
       "    </tr>\n",
       "    <tr>\n",
       "      <th>5</th>\n",
       "      <td>5</td>\n",
       "      <td>0.200000</td>\n",
       "    </tr>\n",
       "    <tr>\n",
       "      <th>6</th>\n",
       "      <td>1</td>\n",
       "      <td>0.000000</td>\n",
       "    </tr>\n",
       "  </tbody>\n",
       "</table>\n",
       "</div>"
      ],
      "text/plain": [
       "       Count  Survived\n",
       "Parch                 \n",
       "0        678  0.343658\n",
       "1        118  0.550847\n",
       "2         80  0.500000\n",
       "3          5  0.600000\n",
       "4          4  0.000000\n",
       "5          5  0.200000\n",
       "6          1  0.000000"
      ]
     },
     "metadata": {},
     "output_type": "display_data"
    }
   ],
   "source": [
    "#Determine the percentage of people in each age range who survived\n",
    "parch_df = pd.DataFrame()\n",
    "parch_df[\"Count\"] = titanic_df.groupby(titanic_df[\"Parch\"])[[\"Survived\"]].count()\n",
    "parch_df[\"Survived\"] = titanic_df.groupby(titanic_df[\"Parch\"])[[\"Survived\"]].mean()\n",
    "display(parch_df)"
   ]
  },
  {
   "attachments": {},
   "cell_type": "markdown",
   "metadata": {},
   "source": [
    "From this table, it can be determined that:\n",
    "* Passengers with 1 or 2 parents/children on board were more likely to survive than passengeres with 0 parents/children on board.\n",
    "* Passengers with 4+ siblings/spouses on board seem to be unlikely to survive, though it is hard to draw conclusions because there were not many such cases."
   ]
  },
  {
   "attachments": {},
   "cell_type": "markdown",
   "metadata": {},
   "source": [
    "##### Exploratory data analysis conclusions\n",
    "Gender appears to be one of the most important factors in survival rate; female passengers were significantly more likely to survive than male passengers. Socio-economic status also appears to be an important factor, with higher-class passengers being more likely to survive than lower-class passengers. Embark location can predict survival chance to an extent, but may reflect the socio-economic status of people who embarked at each location. Age also factors into survival chance, though the relationship is not linear, since there is a dip in survival rate between ages 15 and 30."
   ]
  },
  {
   "attachments": {},
   "cell_type": "markdown",
   "metadata": {},
   "source": [
    "### Building models"
   ]
  },
  {
   "attachments": {},
   "cell_type": "markdown",
   "metadata": {},
   "source": [
    "##### Logistic regression"
   ]
  },
  {
   "cell_type": "code",
   "execution_count": 8,
   "metadata": {},
   "outputs": [
    {
     "name": "stdout",
     "output_type": "stream",
     "text": [
      "Cross-validation stats:\n",
      "Accuracy:  [0.6424581  0.74719101 0.67977528 0.70224719 0.70224719], mean: 0.6947837549431926\n",
      "Precision: [0.59259259 0.89655172 0.68965517 0.74193548 0.9       ], mean: 0.7641469946030569\n",
      "Recall:    [0.23188406 0.38235294 0.29411765 0.33823529 0.26086957], mean: 0.3014919011082694\n",
      "F-score:   [0.33333333 0.53608247 0.41237113 0.46464646 0.40449438], mean: 0.4301855576499385\n"
     ]
    }
   ],
   "source": [
    "#Define input and output\n",
    "logistic_regression_input = titanic_df[[\"Age\", \"SibSp\", \"Parch\", \"Fare\"]]\n",
    "logistic_regression_output = titanic_df[\"Survived\"]\n",
    "\n",
    "#Create logistic regression model\n",
    "log_reg = linear_model.LogisticRegression(max_iter=10000)\n",
    "\n",
    "#Evaluate model using cross-validation\n",
    "cv_stats = cross_validate(log_reg, logistic_regression_input, logistic_regression_output, scoring=['accuracy', 'precision', 'recall', 'f1'], cv=5)\n",
    "print(\"Cross-validation stats:\")\n",
    "print(\"Accuracy:  {}, mean: {}\".format(cv_stats[\"test_accuracy\"], cv_stats[\"test_accuracy\"].mean()))\n",
    "print(\"Precision: {}, mean: {}\".format(cv_stats[\"test_precision\"], cv_stats[\"test_precision\"].mean()))\n",
    "print(\"Recall:    {}, mean: {}\".format(cv_stats[\"test_recall\"], cv_stats[\"test_recall\"].mean()))\n",
    "print(\"F-score:   {}, mean: {}\".format(cv_stats[\"test_f1\"], cv_stats[\"test_f1\"].mean()))"
   ]
  },
  {
   "attachments": {},
   "cell_type": "markdown",
   "metadata": {},
   "source": [
    "##### k-nearest neighbors"
   ]
  },
  {
   "cell_type": "code",
   "execution_count": 9,
   "metadata": {},
   "outputs": [
    {
     "name": "stdout",
     "output_type": "stream",
     "text": [
      "Cross-validation stats:\n",
      "Accuracy:  [0.60335196 0.59550562 0.6741573  0.67977528 0.69662921], mean: 0.6498838742075199\n",
      "Precision: [0.48275862 0.475      0.58333333 0.59649123 0.61538462], mean: 0.5505935594955559\n",
      "Recall:    [0.4057971  0.55882353 0.51470588 0.5        0.57971014], mean: 0.5118073316283035\n",
      "F-score:   [0.44094488 0.51351351 0.546875   0.544      0.59701493], mean: 0.5284696641552824\n",
      "Cross-validation stats:\n",
      "Accuracy:  [0.60335196 0.59550562 0.6741573  0.67977528 0.69662921], mean: 0.6498838742075199\n",
      "Precision: [0.48275862 0.475      0.58333333 0.59649123 0.61538462], mean: 0.5505935594955559\n",
      "Recall:    [0.4057971  0.55882353 0.51470588 0.5        0.57971014], mean: 0.5118073316283035\n",
      "F-score:   [0.44094488 0.51351351 0.546875   0.544      0.59701493], mean: 0.5284696641552824\n"
     ]
    },
    {
     "name": "stderr",
     "output_type": "stream",
     "text": [
      "c:\\Users\\marcu\\anaconda3\\lib\\site-packages\\sklearn\\neighbors\\_classification.py:228: FutureWarning: Unlike other reduction functions (e.g. `skew`, `kurtosis`), the default behavior of `mode` typically preserves the axis it acts along. In SciPy 1.11.0, this behavior will change: the default value of `keepdims` will become False, the `axis` over which the statistic is taken will be eliminated, and the value None will no longer be accepted. Set `keepdims` to True or False to avoid this warning.\n",
      "  mode, _ = stats.mode(_y[neigh_ind, k], axis=1)\n",
      "c:\\Users\\marcu\\anaconda3\\lib\\site-packages\\sklearn\\neighbors\\_classification.py:228: FutureWarning: Unlike other reduction functions (e.g. `skew`, `kurtosis`), the default behavior of `mode` typically preserves the axis it acts along. In SciPy 1.11.0, this behavior will change: the default value of `keepdims` will become False, the `axis` over which the statistic is taken will be eliminated, and the value None will no longer be accepted. Set `keepdims` to True or False to avoid this warning.\n",
      "  mode, _ = stats.mode(_y[neigh_ind, k], axis=1)\n",
      "c:\\Users\\marcu\\anaconda3\\lib\\site-packages\\sklearn\\neighbors\\_classification.py:228: FutureWarning: Unlike other reduction functions (e.g. `skew`, `kurtosis`), the default behavior of `mode` typically preserves the axis it acts along. In SciPy 1.11.0, this behavior will change: the default value of `keepdims` will become False, the `axis` over which the statistic is taken will be eliminated, and the value None will no longer be accepted. Set `keepdims` to True or False to avoid this warning.\n",
      "  mode, _ = stats.mode(_y[neigh_ind, k], axis=1)\n",
      "c:\\Users\\marcu\\anaconda3\\lib\\site-packages\\sklearn\\neighbors\\_classification.py:228: FutureWarning: Unlike other reduction functions (e.g. `skew`, `kurtosis`), the default behavior of `mode` typically preserves the axis it acts along. In SciPy 1.11.0, this behavior will change: the default value of `keepdims` will become False, the `axis` over which the statistic is taken will be eliminated, and the value None will no longer be accepted. Set `keepdims` to True or False to avoid this warning.\n",
      "  mode, _ = stats.mode(_y[neigh_ind, k], axis=1)\n",
      "c:\\Users\\marcu\\anaconda3\\lib\\site-packages\\sklearn\\neighbors\\_classification.py:228: FutureWarning: Unlike other reduction functions (e.g. `skew`, `kurtosis`), the default behavior of `mode` typically preserves the axis it acts along. In SciPy 1.11.0, this behavior will change: the default value of `keepdims` will become False, the `axis` over which the statistic is taken will be eliminated, and the value None will no longer be accepted. Set `keepdims` to True or False to avoid this warning.\n",
      "  mode, _ = stats.mode(_y[neigh_ind, k], axis=1)\n",
      "c:\\Users\\marcu\\anaconda3\\lib\\site-packages\\sklearn\\neighbors\\_classification.py:228: FutureWarning: Unlike other reduction functions (e.g. `skew`, `kurtosis`), the default behavior of `mode` typically preserves the axis it acts along. In SciPy 1.11.0, this behavior will change: the default value of `keepdims` will become False, the `axis` over which the statistic is taken will be eliminated, and the value None will no longer be accepted. Set `keepdims` to True or False to avoid this warning.\n",
      "  mode, _ = stats.mode(_y[neigh_ind, k], axis=1)\n",
      "c:\\Users\\marcu\\anaconda3\\lib\\site-packages\\sklearn\\neighbors\\_classification.py:228: FutureWarning: Unlike other reduction functions (e.g. `skew`, `kurtosis`), the default behavior of `mode` typically preserves the axis it acts along. In SciPy 1.11.0, this behavior will change: the default value of `keepdims` will become False, the `axis` over which the statistic is taken will be eliminated, and the value None will no longer be accepted. Set `keepdims` to True or False to avoid this warning.\n",
      "  mode, _ = stats.mode(_y[neigh_ind, k], axis=1)\n",
      "c:\\Users\\marcu\\anaconda3\\lib\\site-packages\\sklearn\\neighbors\\_classification.py:228: FutureWarning: Unlike other reduction functions (e.g. `skew`, `kurtosis`), the default behavior of `mode` typically preserves the axis it acts along. In SciPy 1.11.0, this behavior will change: the default value of `keepdims` will become False, the `axis` over which the statistic is taken will be eliminated, and the value None will no longer be accepted. Set `keepdims` to True or False to avoid this warning.\n",
      "  mode, _ = stats.mode(_y[neigh_ind, k], axis=1)\n",
      "c:\\Users\\marcu\\anaconda3\\lib\\site-packages\\sklearn\\neighbors\\_classification.py:228: FutureWarning: Unlike other reduction functions (e.g. `skew`, `kurtosis`), the default behavior of `mode` typically preserves the axis it acts along. In SciPy 1.11.0, this behavior will change: the default value of `keepdims` will become False, the `axis` over which the statistic is taken will be eliminated, and the value None will no longer be accepted. Set `keepdims` to True or False to avoid this warning.\n",
      "  mode, _ = stats.mode(_y[neigh_ind, k], axis=1)\n",
      "c:\\Users\\marcu\\anaconda3\\lib\\site-packages\\sklearn\\neighbors\\_classification.py:228: FutureWarning: Unlike other reduction functions (e.g. `skew`, `kurtosis`), the default behavior of `mode` typically preserves the axis it acts along. In SciPy 1.11.0, this behavior will change: the default value of `keepdims` will become False, the `axis` over which the statistic is taken will be eliminated, and the value None will no longer be accepted. Set `keepdims` to True or False to avoid this warning.\n",
      "  mode, _ = stats.mode(_y[neigh_ind, k], axis=1)\n"
     ]
    }
   ],
   "source": [
    "#Define input and output\n",
    "knn_input = titanic_df[[\"Age\", \"SibSp\", \"Parch\", \"Fare\"]]\n",
    "knn_output = titanic_df[\"Survived\"]\n",
    "\n",
    "#Create KNN classifier model\n",
    "knn = neighbors.KNeighborsClassifier(n_neighbors=5)\n",
    "\n",
    "#Evaluate model using cross-validation\n",
    "cv_stats = cross_validate(knn, knn_input, knn_output, scoring=['accuracy', 'precision', 'recall', 'f1'], cv=5)\n",
    "print(\"Cross-validation stats:\")\n",
    "print(\"Accuracy:  {}, mean: {}\".format(cv_stats[\"test_accuracy\"], cv_stats[\"test_accuracy\"].mean()))\n",
    "print(\"Precision: {}, mean: {}\".format(cv_stats[\"test_precision\"], cv_stats[\"test_precision\"].mean()))\n",
    "print(\"Recall:    {}, mean: {}\".format(cv_stats[\"test_recall\"], cv_stats[\"test_recall\"].mean()))\n",
    "print(\"F-score:   {}, mean: {}\".format(cv_stats[\"test_f1\"], cv_stats[\"test_f1\"].mean()))\n",
    "\n",
    "cv_stats = cross_validate(knn, knn_input, knn_output, scoring=['accuracy', 'precision', 'recall', 'f1'], cv=5)\n",
    "print(\"Cross-validation stats:\")\n",
    "print(\"Accuracy:  {}, mean: {}\".format(cv_stats[\"test_accuracy\"], cv_stats[\"test_accuracy\"].mean()))\n",
    "print(\"Precision: {}, mean: {}\".format(cv_stats[\"test_precision\"], cv_stats[\"test_precision\"].mean()))\n",
    "print(\"Recall:    {}, mean: {}\".format(cv_stats[\"test_recall\"], cv_stats[\"test_recall\"].mean()))\n",
    "print(\"F-score:   {}, mean: {}\".format(cv_stats[\"test_f1\"], cv_stats[\"test_f1\"].mean()))"
   ]
  },
  {
   "attachments": {},
   "cell_type": "markdown",
   "metadata": {},
   "source": [
    "##### Decision tree\n",
    "\n",
    "Fare and embark point were not used in the decision tree, since both correlate heavily with ticket class. When a model using those features was created, it had higher training performance and worse testing performance, which indicates overfitting."
   ]
  },
  {
   "cell_type": "code",
   "execution_count": 10,
   "metadata": {},
   "outputs": [
    {
     "name": "stdout",
     "output_type": "stream",
     "text": [
      "Cross-validation stats:\n",
      "Accuracy:  [0.78212291 0.79213483 0.80898876 0.79213483 0.83146067], mean: 0.8013684012303057\n",
      "Precision: [0.72727273 0.74603175 0.765625   0.79245283 0.77464789], mean: 0.7612060381634194\n",
      "Recall:    [0.69565217 0.69117647 0.72058824 0.61764706 0.79710145], mean: 0.7044330775788576\n",
      "F-score:   [0.71111111 0.71755725 0.74242424 0.69421488 0.78571429], mean: 0.7302043534382188\n"
     ]
    }
   ],
   "source": [
    "#Define input and output\n",
    "#tree_input = titanic_df[[\"Pclass\", \"Sex\", \"Embarked\", \"Age\", \"SibSp\", \"Parch\", \"Fare\"]].copy()\n",
    "tree_input = titanic_df[[\"Pclass\", \"Sex\", \"Age\", \"SibSp\", \"Parch\"]].copy()\n",
    "\n",
    "#Convert categorical features to 0/1 values, necessary to use them with sklearn\n",
    "tree_input[\"sex_num\"] = (tree_input[\"Sex\"] == \"male\").astype(int) #Convert sex to 0 for female and 1 for male\n",
    "tree_input[\"is_class_1\"] = (tree_input[\"Pclass\"] == 1).astype(int)\n",
    "tree_input[\"is_class_2\"] = (tree_input[\"Pclass\"] == 2).astype(int)\n",
    "tree_input[\"is_class_3\"] = (tree_input[\"Pclass\"] == 3).astype(int)\n",
    "tree_input.drop(columns=[\"Sex\", \"Pclass\"], inplace=True)\n",
    "\n",
    "tree_output = titanic_df[\"Survived\"]\n",
    "\n",
    "#Create decision tree model\n",
    "clf = DecisionTreeClassifier(random_state=0, criterion=\"entropy\")\n",
    "\n",
    "#Evaluate model using cross-validation\n",
    "cv_stats = cross_validate(clf, tree_input, tree_output, scoring=['accuracy', 'precision', 'recall', 'f1'], cv=5)\n",
    "print(\"Cross-validation stats:\")\n",
    "print(\"Accuracy:  {}, mean: {}\".format(cv_stats[\"test_accuracy\"], cv_stats[\"test_accuracy\"].mean()))\n",
    "print(\"Precision: {}, mean: {}\".format(cv_stats[\"test_precision\"], cv_stats[\"test_precision\"].mean()))\n",
    "print(\"Recall:    {}, mean: {}\".format(cv_stats[\"test_recall\"], cv_stats[\"test_recall\"].mean()))\n",
    "print(\"F-score:   {}, mean: {}\".format(cv_stats[\"test_f1\"], cv_stats[\"test_f1\"].mean()))"
   ]
  }
 ],
 "metadata": {
  "kernelspec": {
   "display_name": "base",
   "language": "python",
   "name": "python3"
  },
  "language_info": {
   "codemirror_mode": {
    "name": "ipython",
    "version": 3
   },
   "file_extension": ".py",
   "mimetype": "text/x-python",
   "name": "python",
   "nbconvert_exporter": "python",
   "pygments_lexer": "ipython3",
   "version": "3.9.13"
  },
  "orig_nbformat": 4,
  "vscode": {
   "interpreter": {
    "hash": "7ad2d2b061933ccb46f02c21d4dc257a7efb561c7355abd71f7246fa8dd772fc"
   }
  }
 },
 "nbformat": 4,
 "nbformat_minor": 2
}
