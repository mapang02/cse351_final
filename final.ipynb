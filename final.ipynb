{
 "cells": [
  {
   "attachments": {},
   "cell_type": "markdown",
   "metadata": {},
   "source": [
    "### Initialization"
   ]
  },
  {
   "cell_type": "code",
   "execution_count": 4,
   "metadata": {},
   "outputs": [],
   "source": [
    "#Initial setup\n",
    "import math\n",
    "import numpy as np\n",
    "import pandas as pd\n",
    "from sklearn.model_selection import train_test_split\n",
    "from sklearn import linear_model\n",
    "\n",
    "import seaborn as sns\n",
    "import matplotlib.pyplot as plt\n",
    "\n",
    "np.random.seed(0)\n",
    "\n",
    "#Read Titanic data\n",
    "titanic_df = pd.read_csv(\"train.csv\")"
   ]
  },
  {
   "attachments": {},
   "cell_type": "markdown",
   "metadata": {},
   "source": [
    "### Data cleaning"
   ]
  },
  {
   "cell_type": "code",
   "execution_count": 7,
   "metadata": {},
   "outputs": [
    {
     "name": "stdout",
     "output_type": "stream",
     "text": [
      "Unique values for 'Sex': ['male' 'female']\n",
      "Unique values for 'Pclass': [1, 2, 3]\n",
      "Unique values for 'SibSp': [0, 1, 2, 3, 4, 5, 8]\n",
      "Unique values for 'Parch': [0, 1, 2, 3, 4, 5, 6]\n",
      "Unique values for 'Embarked': ['S' 'C' 'Q' nan]\n",
      "Age percentiles\n",
      " \t0th pctl: 0.42000\n",
      "\t10th pctl: 16.00000\n",
      "\t25th pctl: 22.00000\n",
      "\t50th pctl: 29.69912\n",
      "\t75th pctl: 35.00000\n",
      "\t90th pctl: 47.00000\n",
      "\t100th pctl: 80.00000\n",
      "\tnull values: 0\n",
      "Fare percentiles\n",
      " \t0th pctl: 0.00000\n",
      "\t10th pctl: 7.55000\n",
      "\t25th pctl: 7.91040\n",
      "\t50th pctl: 14.45420\n",
      "\t75th pctl: 31.00000\n",
      "\t90th pctl: 77.95830\n",
      "\t100th pctl: 512.32920\n",
      "\tnull values: 0\n"
     ]
    }
   ],
   "source": [
    "#Check the unique values for variables that should have a small number of possible values\n",
    "print(\"Unique values for 'Sex':\", pd.unique(titanic_df[\"Sex\"]))\n",
    "print(\"Unique values for 'Pclass':\", sorted(pd.unique(titanic_df[\"Pclass\"])))\n",
    "print(\"Unique values for 'SibSp':\", sorted(pd.unique(titanic_df[\"SibSp\"])))\n",
    "print(\"Unique values for 'Parch':\", sorted(pd.unique(titanic_df[\"Parch\"])))\n",
    "print(\"Unique values for 'Embarked':\", pd.unique(titanic_df[\"Embarked\"]))\n",
    "\n",
    "#Check min, max, 10th, 25th, 50th, 75th, and 90th quartiles for 'Age' field\n",
    "print(\"Age percentiles\\n\", \"\\n\".join([\"\\t%dth pctl: %.5f\" % (n, titanic_df[\"Age\"].quantile(n/100)) for n in [0, 10, 25, 50, 75, 90, 100]]))\n",
    "print(\"\\tnull values:\", titanic_df[\"Age\"].isna().sum())\n",
    "#Impute missing ages with the mean age\n",
    "titanic_df[\"Age\"].fillna(titanic_df[\"Age\"].mean(), inplace=True)\n",
    "\n",
    "#Check min, max, 10th, 25th, 50th, 75th, and 90th quartiles for 'Fare' field\n",
    "print(\"Fare percentiles\\n\", \"\\n\".join([\"\\t%dth pctl: %.5f\" % (n, titanic_df[\"Fare\"].quantile(n/100)) for n in [0, 10, 25, 50, 75, 90, 100]]))\n",
    "print(\"\\tnull values:\", titanic_df[\"Fare\"].isna().sum())\n",
    "#Impute missing fares with the mean fare\n",
    "titanic_df[\"Fare\"].fillna(titanic_df[\"Fare\"].mean(), inplace=True)"
   ]
  },
  {
   "attachments": {},
   "cell_type": "markdown",
   "metadata": {},
   "source": [
    "Data cleaning takeaways:\n",
    "* There are no unusual values in the Sex, Pclass, SibSp, or Parch column. \n",
    "* The Embarked column has some missing values, but no other unusual values.\n",
    "* There do not appear to be any unusual values in the Age column, although there are 177 missing values. The missing ages were imputed with the mean age.\n",
    "* There do not appear to be any unusual values in the Fare column. A fare of 0.0 could be interpreted as a ticket provided for free. Although the maximum value is significantly higher than the 90th percentile value, there are a number other of high-cost tickets."
   ]
  },
  {
   "attachments": {},
   "cell_type": "markdown",
   "metadata": {},
   "source": [
    "### Exploratory Data Analysis"
   ]
  },
  {
   "cell_type": "code",
   "execution_count": 39,
   "metadata": {},
   "outputs": [
    {
     "data": {
      "text/html": [
       "<div>\n",
       "<style scoped>\n",
       "    .dataframe tbody tr th:only-of-type {\n",
       "        vertical-align: middle;\n",
       "    }\n",
       "\n",
       "    .dataframe tbody tr th {\n",
       "        vertical-align: top;\n",
       "    }\n",
       "\n",
       "    .dataframe thead th {\n",
       "        text-align: right;\n",
       "    }\n",
       "</style>\n",
       "<table border=\"1\" class=\"dataframe\">\n",
       "  <thead>\n",
       "    <tr style=\"text-align: right;\">\n",
       "      <th></th>\n",
       "      <th>Age</th>\n",
       "      <th>SibSp</th>\n",
       "      <th>Parch</th>\n",
       "      <th>Fare</th>\n",
       "      <th>% Male</th>\n",
       "      <th>% Female</th>\n",
       "      <th>% from C</th>\n",
       "      <th>% from Q</th>\n",
       "      <th>% from S</th>\n",
       "    </tr>\n",
       "    <tr>\n",
       "      <th>Pclass</th>\n",
       "      <th></th>\n",
       "      <th></th>\n",
       "      <th></th>\n",
       "      <th></th>\n",
       "      <th></th>\n",
       "      <th></th>\n",
       "      <th></th>\n",
       "      <th></th>\n",
       "      <th></th>\n",
       "    </tr>\n",
       "  </thead>\n",
       "  <tbody>\n",
       "    <tr>\n",
       "      <th>1</th>\n",
       "      <td>37.048118</td>\n",
       "      <td>0.416667</td>\n",
       "      <td>0.356481</td>\n",
       "      <td>84.154687</td>\n",
       "      <td>0.564815</td>\n",
       "      <td>0.435185</td>\n",
       "      <td>0.393519</td>\n",
       "      <td>0.009259</td>\n",
       "      <td>0.587963</td>\n",
       "    </tr>\n",
       "    <tr>\n",
       "      <th>2</th>\n",
       "      <td>29.866958</td>\n",
       "      <td>0.402174</td>\n",
       "      <td>0.380435</td>\n",
       "      <td>20.662183</td>\n",
       "      <td>0.586957</td>\n",
       "      <td>0.413043</td>\n",
       "      <td>0.092391</td>\n",
       "      <td>0.016304</td>\n",
       "      <td>0.891304</td>\n",
       "    </tr>\n",
       "    <tr>\n",
       "      <th>3</th>\n",
       "      <td>26.403259</td>\n",
       "      <td>0.615071</td>\n",
       "      <td>0.393075</td>\n",
       "      <td>13.675550</td>\n",
       "      <td>0.706721</td>\n",
       "      <td>0.293279</td>\n",
       "      <td>0.134420</td>\n",
       "      <td>0.146640</td>\n",
       "      <td>0.718941</td>\n",
       "    </tr>\n",
       "  </tbody>\n",
       "</table>\n",
       "</div>"
      ],
      "text/plain": [
       "              Age     SibSp     Parch       Fare    % Male  % Female  \\\n",
       "Pclass                                                                 \n",
       "1       37.048118  0.416667  0.356481  84.154687  0.564815  0.435185   \n",
       "2       29.866958  0.402174  0.380435  20.662183  0.586957  0.413043   \n",
       "3       26.403259  0.615071  0.393075  13.675550  0.706721  0.293279   \n",
       "\n",
       "        % from C  % from Q  % from S  \n",
       "Pclass                                \n",
       "1       0.393519  0.009259  0.587963  \n",
       "2       0.092391  0.016304  0.891304  \n",
       "3       0.134420  0.146640  0.718941  "
      ]
     },
     "execution_count": 39,
     "metadata": {},
     "output_type": "execute_result"
    }
   ],
   "source": [
    "#Take average of each field for each passenger class\n",
    "#For non-numeric features, the percentage of each group with each possible value is used\n",
    "pclass_df = titanic_df.copy()\n",
    "pclass_df.drop(columns=\"PassengerId\", inplace=True)\n",
    "pclass_df[\"% Male\"] = (pclass_df[\"Sex\"] == \"male\")\n",
    "pclass_df[\"% Female\"] = 1 - pclass_df[\"% Male\"]\n",
    "pclass_df[\"% from C\"] = (pclass_df[\"Embarked\"] == \"C\")\n",
    "pclass_df[\"% from Q\"] = (pclass_df[\"Embarked\"] == \"Q\")\n",
    "pclass_df[\"% from S\"] = (pclass_df[\"Embarked\"] == \"S\")\n",
    "pclass_average_df = pclass_df.groupby(\"Pclass\").mean()\n",
    "pclass_average_df[[\"Age\", \"SibSp\", \"Parch\", \"Fare\", \"% Male\", \"% Female\", \"% from C\", \"% from Q\", \"% from S\"]]"
   ]
  },
  {
   "attachments": {},
   "cell_type": "markdown",
   "metadata": {},
   "source": [
    "From an analysis based on passenger ticket class, it can be determined that:\n",
    "* The higher the class, the older passengers are on average.\n",
    "* On average, third-class passengers had more total siblings/spouses on board than first-class and second-class passengers. First-class passengers had slightly fewer parents/children on board than second-class and third-class passengers.\n",
    "* First-class passengers paid significantly higher fares than second-class and third-class passengers.\n",
    "* The majority of passengers in each group were male, but there was a higher percentage of males amongst third-class passengers.\n",
    "* Most passengers departed from Southampton.\n",
    "* Out of the three classes, first-class passengers were most likely to have departed from Cherbourg.\n",
    "* Out of the three classes, third-class passengers were most likely to have departed from Queenstown."
   ]
  },
  {
   "cell_type": "code",
   "execution_count": 40,
   "metadata": {},
   "outputs": [
    {
     "name": "stdout",
     "output_type": "stream",
     "text": [
      "Sex\n",
      "female    0.742038\n",
      "male      0.188908\n",
      "Name: Survived, dtype: float64\n",
      "Pclass\n",
      "1    0.629630\n",
      "2    0.472826\n",
      "3    0.242363\n",
      "Name: Survived, dtype: float64\n",
      "Embarked\n",
      "C    0.553571\n",
      "Q    0.389610\n",
      "S    0.336957\n",
      "Name: Survived, dtype: float64\n"
     ]
    }
   ],
   "source": [
    "#For discrete variables, determine the percentage of people from each group who survived.\n",
    "print(titanic_df.groupby(\"Sex\")[\"Survived\"].mean())\n",
    "print(titanic_df.groupby(\"Pclass\")[\"Survived\"].mean())\n",
    "print(titanic_df.groupby(\"Embarked\")[\"Survived\"].mean())"
   ]
  },
  {
   "attachments": {},
   "cell_type": "markdown",
   "metadata": {},
   "source": [
    "* Female passengers were more likely to survive than male passengers.\n",
    "* Passengers with first-class tickets were most likely to survive, followed by those with second-class tickets, followed by those with third-class tickets.\n",
    "* Passengers who embarked at Cherbourg were most likely to survive, followed by those who embarked at Queenstown, followed by those who embarked at Southampton.\n",
    "  * This may be due to the fact that first-class passengers were the most likely to have embarked at Cherbourg."
   ]
  },
  {
   "cell_type": "code",
   "execution_count": 42,
   "metadata": {},
   "outputs": [
    {
     "data": {
      "text/plain": [
       "<AxesSubplot:>"
      ]
     },
     "execution_count": 42,
     "metadata": {},
     "output_type": "execute_result"
    },
    {
     "data": {
      "image/png": "[encoded data removed]",
      "text/plain": [
       "<Figure size 640x480 with 2 Axes>"
      ]
     },
     "metadata": {},
     "output_type": "display_data"
    }
   ],
   "source": [
    "#Find correlations between each numeric variable\n",
    "correlations = titanic_df[[\"Survived\", \n",
    "                    \"Age\", \n",
    "                    \"SibSp\", \n",
    "                    \"Parch\", \n",
    "                    \"Fare\"\n",
    "                ]].corr()\n",
    "correlation_cmap = sns.light_palette(color=\"#FF7F50\", as_cmap=True)\n",
    "sns.heatmap(correlations, cmap=correlation_cmap, annot=True)"
   ]
  },
  {
   "attachments": {},
   "cell_type": "markdown",
   "metadata": {},
   "source": [
    "**Exploratory data analysis conclusions**\n",
    "\n",
    "Socio-economic status and gender seem to be the most important factors in survival chance. Embark location can predict survival chance to an extent, but that likely reflects the socio-economic status of people who embarked at each location. "
   ]
  }
 ],
 "metadata": {
  "kernelspec": {
   "display_name": "base",
   "language": "python",
   "name": "python3"
  },
  "language_info": {
   "codemirror_mode": {
    "name": "ipython",
    "version": 3
   },
   "file_extension": ".py",
   "mimetype": "text/x-python",
   "name": "python",
   "nbconvert_exporter": "python",
   "pygments_lexer": "ipython3",
   "version": "3.9.13"
  },
  "orig_nbformat": 4,
  "vscode": {
   "interpreter": {
    "hash": "7ad2d2b061933ccb46f02c21d4dc257a7efb561c7355abd71f7246fa8dd772fc"
   }
  }
 },
 "nbformat": 4,
 "nbformat_minor": 2
}
