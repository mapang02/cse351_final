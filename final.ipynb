{
 "cells": [
  {
   "attachments": {},
   "cell_type": "markdown",
   "metadata": {},
   "source": [
    "### Initialization"
   ]
  },
  {
   "cell_type": "code",
   "execution_count": 4,
   "metadata": {},
   "outputs": [],
   "source": [
    "#Initial setup\n",
    "import math\n",
    "import numpy as np\n",
    "import pandas as pd\n",
    "from sklearn.model_selection import train_test_split\n",
    "from sklearn import linear_model\n",
    "\n",
    "import seaborn as sns\n",
    "import matplotlib.pyplot as plt\n",
    "\n",
    "np.random.seed(0)\n",
    "\n",
    "#Read Titanic data\n",
    "titanic_df = pd.read_csv(\"train.csv\")"
   ]
  },
  {
   "attachments": {},
   "cell_type": "markdown",
   "metadata": {},
   "source": [
    "### Data cleaning"
   ]
  },
  {
   "cell_type": "code",
   "execution_count": 7,
   "metadata": {},
   "outputs": [
    {
     "name": "stdout",
     "output_type": "stream",
     "text": [
      "Unique values for 'Sex': ['male' 'female']\n",
      "Unique values for 'Pclass': [1, 2, 3]\n",
      "Unique values for 'SibSp': [0, 1, 2, 3, 4, 5, 8]\n",
      "Unique values for 'Parch': [0, 1, 2, 3, 4, 5, 6]\n",
      "Unique values for 'Embarked': ['S' 'C' 'Q' nan]\n",
      "Age percentiles\n",
      " \t0th pctl: 0.42000\n",
      "\t10th pctl: 16.00000\n",
      "\t25th pctl: 22.00000\n",
      "\t50th pctl: 29.69912\n",
      "\t75th pctl: 35.00000\n",
      "\t90th pctl: 47.00000\n",
      "\t100th pctl: 80.00000\n",
      "\tnull values: 0\n",
      "Fare percentiles\n",
      " \t0th pctl: 0.00000\n",
      "\t10th pctl: 7.55000\n",
      "\t25th pctl: 7.91040\n",
      "\t50th pctl: 14.45420\n",
      "\t75th pctl: 31.00000\n",
      "\t90th pctl: 77.95830\n",
      "\t100th pctl: 512.32920\n",
      "\tnull values: 0\n"
     ]
    }
   ],
   "source": [
    "#Check the unique values for variables that should have a small number of possible values\n",
    "print(\"Unique values for 'Sex':\", pd.unique(titanic_df[\"Sex\"]))\n",
    "print(\"Unique values for 'Pclass':\", sorted(pd.unique(titanic_df[\"Pclass\"])))\n",
    "print(\"Unique values for 'SibSp':\", sorted(pd.unique(titanic_df[\"SibSp\"])))\n",
    "print(\"Unique values for 'Parch':\", sorted(pd.unique(titanic_df[\"Parch\"])))\n",
    "print(\"Unique values for 'Embarked':\", pd.unique(titanic_df[\"Embarked\"]))\n",
    "\n",
    "#Check min, max, 10th, 25th, 50th, 75th, and 90th quartiles for 'Age' field\n",
    "print(\"Age percentiles\\n\", \"\\n\".join([\"\\t%dth pctl: %.5f\" % (n, titanic_df[\"Age\"].quantile(n/100)) for n in [0, 10, 25, 50, 75, 90, 100]]))\n",
    "print(\"\\tnull values:\", titanic_df[\"Age\"].isna().sum())\n",
    "#Impute missing ages with the mean age\n",
    "titanic_df[\"Age\"].fillna(titanic_df[\"Age\"].mean(), inplace=True)\n",
    "\n",
    "#Check min, max, 10th, 25th, 50th, 75th, and 90th quartiles for 'Fare' field\n",
    "print(\"Fare percentiles\\n\", \"\\n\".join([\"\\t%dth pctl: %.5f\" % (n, titanic_df[\"Fare\"].quantile(n/100)) for n in [0, 10, 25, 50, 75, 90, 100]]))\n",
    "print(\"\\tnull values:\", titanic_df[\"Fare\"].isna().sum())\n",
    "#Impute missing fares with the mean fare\n",
    "titanic_df[\"Fare\"].fillna(titanic_df[\"Fare\"].mean(), inplace=True)"
   ]
  },
  {
   "attachments": {},
   "cell_type": "markdown",
   "metadata": {},
   "source": [
    "Data cleaning takeaways:\n",
    "* There are no unusual values in the Sex, Pclass, SibSp, or Parch column. \n",
    "* The Embarked column has some missing values, but no other unusual values.\n",
    "* There do not appear to be any unusual values in the Age column, although there are 177 missing values. The missing ages were imputed with the mean age.\n",
    "* There do not appear to be any unusual values in the Fare column. A fare of 0.0 could be interpreted as a ticket provided for free. Although the maximum value is significantly higher than the 90th percentile value, there are a number other of high-cost tickets."
   ]
  },
  {
   "cell_type": "code",
   "execution_count": null,
   "metadata": {},
   "outputs": [],
   "source": [
    "print(\"Goodbye!\")"
   ]
  }
 ],
 "metadata": {
  "kernelspec": {
   "display_name": "base",
   "language": "python",
   "name": "python3"
  },
  "language_info": {
   "codemirror_mode": {
    "name": "ipython",
    "version": 3
   },
   "file_extension": ".py",
   "mimetype": "text/x-python",
   "name": "python",
   "nbconvert_exporter": "python",
   "pygments_lexer": "ipython3",
   "version": "3.9.13"
  },
  "orig_nbformat": 4,
  "vscode": {
   "interpreter": {
    "hash": "7ad2d2b061933ccb46f02c21d4dc257a7efb561c7355abd71f7246fa8dd772fc"
   }
  }
 },
 "nbformat": 4,
 "nbformat_minor": 2
}
